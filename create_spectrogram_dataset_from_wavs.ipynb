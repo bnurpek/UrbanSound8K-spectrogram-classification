{
 "cells": [
  {
   "cell_type": "code",
   "execution_count": 1,
   "id": "280d5eaa",
   "metadata": {},
   "outputs": [
    {
     "name": "stderr",
     "output_type": "stream",
     "text": [
      "C:\\ProgramData\\Anaconda3\\envs\\tensorflow\\lib\\site-packages\\scipy\\__init__.py:146: UserWarning: A NumPy version >=1.16.5 and <1.23.0 is required for this version of SciPy (detected version 1.23.3\n",
      "  warnings.warn(f\"A NumPy version >={np_minversion} and <{np_maxversion}\"\n"
     ]
    }
   ],
   "source": [
    "import numpy as np\n",
    "import librosa\n",
    "import librosa.display\n",
    "import os\n",
    "import cv2\n",
    "import matplotlib.pyplot as plt\n",
    "import time"
   ]
  },
  {
   "cell_type": "markdown",
   "id": "d339c0cd",
   "metadata": {},
   "source": [
    "**Please read UrbanSound8K_README.txt to better understand getting class names**"
   ]
  },
  {
   "cell_type": "code",
   "execution_count": 2,
   "id": "32644616",
   "metadata": {},
   "outputs": [
    {
     "name": "stdout",
     "output_type": "stream",
     "text": [
      "<class 'str'>\n",
      "<class 'str'>\n"
     ]
    }
   ],
   "source": [
    "f_name = '7061-6-0-0.wav'\n",
    "print(type(f_name))\n",
    "a = f_name.split('-')\n",
    "print(type(a[1]))"
   ]
  },
  {
   "cell_type": "code",
   "execution_count": 3,
   "id": "b2e71fab",
   "metadata": {},
   "outputs": [],
   "source": [
    "def get_class_name(file_name):\n",
    "    \"\"\"\n",
    "        file_name: string\n",
    "    return\n",
    "        class_name: string\n",
    "    \"\"\"\n",
    "    a = file_name.split('-')\n",
    "    return a[1]"
   ]
  },
  {
   "cell_type": "code",
   "execution_count": 4,
   "id": "cc3ba0de",
   "metadata": {},
   "outputs": [],
   "source": [
    "def create_dataset(audio_folder):\n",
    "    \"\"\"\n",
    "        audio_folder: string\n",
    "    return\n",
    "        wav_data_array: a list of spectrograms\n",
    "        class_name: a list of spectrograms' class names\n",
    "    \"\"\"\n",
    "   \n",
    "    wav_data_array=[]\n",
    "    file_names = []\n",
    "    class_name=[]\n",
    "   \n",
    "    for fold in os.listdir(audio_folder):\n",
    "        for file_name in os.listdir(os.path.join(audio_folder, fold)):\n",
    "            wav_path= os.path.join(audio_folder, fold,  file_name)\n",
    "            data, fs = librosa.load(wav_path)\n",
    "            spec = create_spectrogram(data)\n",
    "            wav_data_array.append(spec)\n",
    "            class_ = get_class_name(file_name)\n",
    "            class_name.append(class_)\n",
    "            file_names.append(file_name)\n",
    "            \n",
    "    return wav_data_array, file_names, class_name"
   ]
  },
  {
   "cell_type": "code",
   "execution_count": 5,
   "id": "b65a2874",
   "metadata": {},
   "outputs": [],
   "source": [
    "def load_UrbanSound8K_dataset():\n",
    "    \"\"\"\n",
    "    return\n",
    "        datas, labels: numpy ndarrays\n",
    "    \"\"\"\n",
    "    audio_folder_DIR = './UrbanSound8K/audio'\n",
    "    begin = time.time()\n",
    "    datas, names, labels = create_dataset(audio_folder_DIR)\n",
    "    end = time.time()\n",
    "#    datas = np.array(datas)\n",
    "#    labels = np.array(labels)\n",
    "    return datas, labels, names"
   ]
  },
  {
   "cell_type": "code",
   "execution_count": 6,
   "id": "5c384389",
   "metadata": {},
   "outputs": [],
   "source": [
    "def create_spectrogram(y):\n",
    "    \"\"\"\n",
    "        y: a 1D numpy ndarray of .wav file\n",
    "    \n",
    "    return\n",
    "        spec: a 2D numpy ndarray of desibels\n",
    "    \"\"\"\n",
    "    \n",
    "    spec = librosa.feature.melspectrogram(y=y)\n",
    "    spec_conv = librosa.amplitude_to_db(spec, ref=np.max)\n",
    "    return spec_conv"
   ]
  },
  {
   "cell_type": "code",
   "execution_count": 7,
   "id": "13f42088",
   "metadata": {
    "scrolled": true
   },
   "outputs": [
    {
     "name": "stderr",
     "output_type": "stream",
     "text": [
      "C:\\ProgramData\\Anaconda3\\envs\\tensorflow\\lib\\site-packages\\librosa\\util\\decorators.py:88: UserWarning: n_fft=2048 is too small for input signal of length=1103\n",
      "  return f(*args, **kwargs)\n",
      "C:\\ProgramData\\Anaconda3\\envs\\tensorflow\\lib\\site-packages\\librosa\\util\\decorators.py:88: UserWarning: n_fft=2048 is too small for input signal of length=1323\n",
      "  return f(*args, **kwargs)\n",
      "C:\\ProgramData\\Anaconda3\\envs\\tensorflow\\lib\\site-packages\\librosa\\util\\decorators.py:88: UserWarning: n_fft=2048 is too small for input signal of length=1523\n",
      "  return f(*args, **kwargs)\n"
     ]
    }
   ],
   "source": [
    "x, y, names = load_UrbanSound8K_dataset()"
   ]
  },
  {
   "cell_type": "markdown",
   "id": "4b2cf119",
   "metadata": {},
   "source": [
    "**audio dosyasının boyutu 6,6 GB o yüzden load işlemi 15-16 dakika sürüyor**"
   ]
  },
  {
   "cell_type": "code",
   "execution_count": 8,
   "id": "7d37b1e3",
   "metadata": {},
   "outputs": [
    {
     "data": {
      "text/plain": [
       "8732"
      ]
     },
     "execution_count": 8,
     "metadata": {},
     "output_type": "execute_result"
    }
   ],
   "source": [
    "len(x)"
   ]
  },
  {
   "cell_type": "code",
   "execution_count": 9,
   "id": "8b4da820",
   "metadata": {},
   "outputs": [
    {
     "data": {
      "text/plain": [
       "8732"
      ]
     },
     "execution_count": 9,
     "metadata": {},
     "output_type": "execute_result"
    }
   ],
   "source": [
    "len(y)"
   ]
  },
  {
   "cell_type": "code",
   "execution_count": 10,
   "id": "54b70e71",
   "metadata": {},
   "outputs": [
    {
     "data": {
      "text/plain": [
       "numpy.ndarray"
      ]
     },
     "execution_count": 10,
     "metadata": {},
     "output_type": "execute_result"
    }
   ],
   "source": [
    "type(x[0])"
   ]
  },
  {
   "cell_type": "code",
   "execution_count": 11,
   "id": "27296b74",
   "metadata": {},
   "outputs": [
    {
     "data": {
      "text/plain": [
       "(128, 173)"
      ]
     },
     "execution_count": 11,
     "metadata": {},
     "output_type": "execute_result"
    }
   ],
   "source": [
    "np.shape(x[0])"
   ]
  },
  {
   "cell_type": "code",
   "execution_count": 12,
   "id": "71100aac",
   "metadata": {},
   "outputs": [],
   "source": [
    "def create_folder(file_name, m):\n",
    "    for i in range(int(m)+1):\n",
    "        try:\n",
    "            os.makedirs(file_name + str(i))\n",
    "        except OSError:\n",
    "            print(file_name + str(i) +\" already exist\")\n",
    "            pass"
   ]
  },
  {
   "cell_type": "code",
   "execution_count": 13,
   "id": "a8127722",
   "metadata": {},
   "outputs": [],
   "source": [
    "create_folder('./spec/', max(y))"
   ]
  },
  {
   "cell_type": "code",
   "execution_count": 14,
   "id": "fe0cd44a",
   "metadata": {},
   "outputs": [],
   "source": [
    "def save_spectrograms(x, y, names, folder):\n",
    "    \"\"\"\n",
    "        x: list of ndarrays\n",
    "        y: list of strings\n",
    "    \"\"\"\n",
    "    m = len(x)\n",
    "    for i in range(m):\n",
    "        tmp_list = names[i].split('.')\n",
    "        tmp_list[1] = \"png\"\n",
    "        name = '.'.join(tmp_list)\n",
    "        path = os.path.join(folder, y[i], name)\n",
    "        fig, ax = plt.subplots()\n",
    "        img = librosa.display.specshow(x[i], ax=ax)\n",
    "        fig.savefig(path, bbox_inches = 'tight', pad_inches = 0)\n",
    "        plt.close()\n",
    "        "
   ]
  },
  {
   "cell_type": "code",
   "execution_count": 15,
   "id": "bb48f79d",
   "metadata": {},
   "outputs": [],
   "source": [
    "save_spectrograms(x, y, names, './spec')"
   ]
  },
  {
   "cell_type": "markdown",
   "id": "77439b8c",
   "metadata": {},
   "source": [
    "**8732 spectrogram olduğu için bu işlem de 15-16 dk sürüyor**"
   ]
  },
  {
   "cell_type": "code",
   "execution_count": null,
   "id": "65fcb2e7",
   "metadata": {},
   "outputs": [],
   "source": []
  }
 ],
 "metadata": {
  "kernelspec": {
   "display_name": "Python 3 (ipykernel)",
   "language": "python",
   "name": "python3"
  },
  "language_info": {
   "codemirror_mode": {
    "name": "ipython",
    "version": 3
   },
   "file_extension": ".py",
   "mimetype": "text/x-python",
   "name": "python",
   "nbconvert_exporter": "python",
   "pygments_lexer": "ipython3",
   "version": "3.10.4"
  }
 },
 "nbformat": 4,
 "nbformat_minor": 5
}
